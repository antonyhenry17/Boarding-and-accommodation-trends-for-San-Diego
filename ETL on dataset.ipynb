{
 "cells": [
  {
   "cell_type": "markdown",
   "metadata": {},
   "source": [
    "# ETL on Boarding and Accomodation dataset"
   ]
  },
  {
   "cell_type": "markdown",
   "metadata": {},
   "source": [
    "#### Importing the required packages"
   ]
  },
  {
   "cell_type": "code",
   "execution_count": null,
   "metadata": {},
   "outputs": [],
   "source": [
    "import pandas as pd \n",
    "import numpy as np\n",
    "from pandas_profiling import ProfileReport"
   ]
  },
  {
   "cell_type": "markdown",
   "metadata": {},
   "source": [
    "## 1. Data Load and Description"
   ]
  },
  {
   "cell_type": "code",
   "execution_count": 5,
   "metadata": {},
   "outputs": [
    {
     "data": {
      "text/html": [
       "<div>\n",
       "<style scoped>\n",
       "    .dataframe tbody tr th:only-of-type {\n",
       "        vertical-align: middle;\n",
       "    }\n",
       "\n",
       "    .dataframe tbody tr th {\n",
       "        vertical-align: top;\n",
       "    }\n",
       "\n",
       "    .dataframe thead th {\n",
       "        text-align: right;\n",
       "    }\n",
       "</style>\n",
       "<table border=\"1\" class=\"dataframe\">\n",
       "  <thead>\n",
       "    <tr style=\"text-align: right;\">\n",
       "      <th></th>\n",
       "      <th>id</th>\n",
       "      <th>listing_url</th>\n",
       "      <th>scrape_id</th>\n",
       "      <th>last_scraped</th>\n",
       "      <th>name</th>\n",
       "      <th>summary</th>\n",
       "      <th>space</th>\n",
       "      <th>description</th>\n",
       "      <th>experiences_offered</th>\n",
       "      <th>neighborhood_overview</th>\n",
       "      <th>...</th>\n",
       "      <th>requires_license</th>\n",
       "      <th>license</th>\n",
       "      <th>jurisdiction_names</th>\n",
       "      <th>instant_bookable</th>\n",
       "      <th>is_business_travel_ready</th>\n",
       "      <th>cancellation_policy</th>\n",
       "      <th>require_guest_profile_picture</th>\n",
       "      <th>require_guest_phone_verification</th>\n",
       "      <th>calculated_host_listings_count</th>\n",
       "      <th>reviews_per_month</th>\n",
       "    </tr>\n",
       "  </thead>\n",
       "  <tbody>\n",
       "    <tr>\n",
       "      <th>0</th>\n",
       "      <td>6</td>\n",
       "      <td>https://www.airbnb.com/rooms/6</td>\n",
       "      <td>20181115100559</td>\n",
       "      <td>2018-11-15</td>\n",
       "      <td>Large Craftsmen w/ yard ~ Perfect for families</td>\n",
       "      <td>Our Beautiful Craftsmen house has all the mode...</td>\n",
       "      <td>We are located in the heart of North Park, the...</td>\n",
       "      <td>Our Beautiful Craftsmen house has all the mode...</td>\n",
       "      <td>none</td>\n",
       "      <td>We have the best Neighborhood in San Diego, in...</td>\n",
       "      <td>...</td>\n",
       "      <td>f</td>\n",
       "      <td>NaN</td>\n",
       "      <td>{\"SAN DIEGO\",\" SAN DIEGO TOURISM MARKETING DIS...</td>\n",
       "      <td>t</td>\n",
       "      <td>f</td>\n",
       "      <td>strict_14_with_grace_period</td>\n",
       "      <td>f</td>\n",
       "      <td>f</td>\n",
       "      <td>1</td>\n",
       "      <td>1.18</td>\n",
       "    </tr>\n",
       "    <tr>\n",
       "      <th>1</th>\n",
       "      <td>5570</td>\n",
       "      <td>https://www.airbnb.com/rooms/5570</td>\n",
       "      <td>20181115100559</td>\n",
       "      <td>2018-11-15</td>\n",
       "      <td>Ocean front condo on the sand</td>\n",
       "      <td>Missionbeachretreat.   Great Ocean Front Condo...</td>\n",
       "      <td>This charming two bedroom beachfront condomini...</td>\n",
       "      <td>Missionbeachretreat.   Great Ocean Front Condo...</td>\n",
       "      <td>none</td>\n",
       "      <td>While some may compare San Diego’s Mission Bea...</td>\n",
       "      <td>...</td>\n",
       "      <td>f</td>\n",
       "      <td>NaN</td>\n",
       "      <td>{\"SAN DIEGO\",\" SAN DIEGO TOURISM MARKETING DIS...</td>\n",
       "      <td>f</td>\n",
       "      <td>f</td>\n",
       "      <td>strict_14_with_grace_period</td>\n",
       "      <td>f</td>\n",
       "      <td>f</td>\n",
       "      <td>2</td>\n",
       "      <td>NaN</td>\n",
       "    </tr>\n",
       "  </tbody>\n",
       "</table>\n",
       "<p>2 rows × 96 columns</p>\n",
       "</div>"
      ],
      "text/plain": [
       "     id                        listing_url       scrape_id last_scraped  \\\n",
       "0     6     https://www.airbnb.com/rooms/6  20181115100559   2018-11-15   \n",
       "1  5570  https://www.airbnb.com/rooms/5570  20181115100559   2018-11-15   \n",
       "\n",
       "                                             name  \\\n",
       "0  Large Craftsmen w/ yard ~ Perfect for families   \n",
       "1                   Ocean front condo on the sand   \n",
       "\n",
       "                                             summary  \\\n",
       "0  Our Beautiful Craftsmen house has all the mode...   \n",
       "1  Missionbeachretreat.   Great Ocean Front Condo...   \n",
       "\n",
       "                                               space  \\\n",
       "0  We are located in the heart of North Park, the...   \n",
       "1  This charming two bedroom beachfront condomini...   \n",
       "\n",
       "                                         description experiences_offered  \\\n",
       "0  Our Beautiful Craftsmen house has all the mode...                none   \n",
       "1  Missionbeachretreat.   Great Ocean Front Condo...                none   \n",
       "\n",
       "                               neighborhood_overview  ... requires_license  \\\n",
       "0  We have the best Neighborhood in San Diego, in...  ...                f   \n",
       "1  While some may compare San Diego’s Mission Bea...  ...                f   \n",
       "\n",
       "  license                                 jurisdiction_names instant_bookable  \\\n",
       "0     NaN  {\"SAN DIEGO\",\" SAN DIEGO TOURISM MARKETING DIS...                t   \n",
       "1     NaN  {\"SAN DIEGO\",\" SAN DIEGO TOURISM MARKETING DIS...                f   \n",
       "\n",
       "  is_business_travel_ready          cancellation_policy  \\\n",
       "0                        f  strict_14_with_grace_period   \n",
       "1                        f  strict_14_with_grace_period   \n",
       "\n",
       "   require_guest_profile_picture require_guest_phone_verification  \\\n",
       "0                              f                                f   \n",
       "1                              f                                f   \n",
       "\n",
       "   calculated_host_listings_count  reviews_per_month  \n",
       "0                               1               1.18  \n",
       "1                               2                NaN  \n",
       "\n",
       "[2 rows x 96 columns]"
      ]
     },
     "execution_count": 5,
     "metadata": {},
     "output_type": "execute_result"
    }
   ],
   "source": [
    "#Loading detailed Listings data for San Diego in a pandas dataframe\n",
    "\n",
    "df_listings = pd.read_csv('C:\\\\Users\\Antony\\\\Documents\\\\My Tableau Repository\\\\Datasources\\\\Tableau\\\\MadStreetDen assignment\\\\MSD- copy\\\\listings.csv')\n",
    "df_listings.head(2)"
   ]
  },
  {
   "cell_type": "code",
   "execution_count": 19,
   "metadata": {},
   "outputs": [
    {
     "data": {
      "text/html": [
       "<div>\n",
       "<style scoped>\n",
       "    .dataframe tbody tr th:only-of-type {\n",
       "        vertical-align: middle;\n",
       "    }\n",
       "\n",
       "    .dataframe tbody tr th {\n",
       "        vertical-align: top;\n",
       "    }\n",
       "\n",
       "    .dataframe thead th {\n",
       "        text-align: right;\n",
       "    }\n",
       "</style>\n",
       "<table border=\"1\" class=\"dataframe\">\n",
       "  <thead>\n",
       "    <tr style=\"text-align: right;\">\n",
       "      <th></th>\n",
       "      <th>id</th>\n",
       "      <th>name</th>\n",
       "      <th>host_id</th>\n",
       "      <th>host_name</th>\n",
       "      <th>neighbourhood_group</th>\n",
       "      <th>neighbourhood</th>\n",
       "      <th>latitude</th>\n",
       "      <th>longitude</th>\n",
       "      <th>room_type</th>\n",
       "      <th>price</th>\n",
       "      <th>minimum_nights</th>\n",
       "      <th>number_of_reviews</th>\n",
       "      <th>last_review</th>\n",
       "      <th>reviews_per_month</th>\n",
       "      <th>calculated_host_listings_count</th>\n",
       "      <th>availability_365</th>\n",
       "    </tr>\n",
       "  </thead>\n",
       "  <tbody>\n",
       "    <tr>\n",
       "      <th>0</th>\n",
       "      <td>6</td>\n",
       "      <td>Large Craftsmen w/ yard ~ Perfect for families</td>\n",
       "      <td>29</td>\n",
       "      <td>Sara</td>\n",
       "      <td>NaN</td>\n",
       "      <td>North Hills</td>\n",
       "      <td>32.753993</td>\n",
       "      <td>-117.129705</td>\n",
       "      <td>Entire home/apt</td>\n",
       "      <td>295</td>\n",
       "      <td>2</td>\n",
       "      <td>149</td>\n",
       "      <td>2018-10-07</td>\n",
       "      <td>1.18</td>\n",
       "      <td>1</td>\n",
       "      <td>20</td>\n",
       "    </tr>\n",
       "    <tr>\n",
       "      <th>1</th>\n",
       "      <td>5570</td>\n",
       "      <td>Ocean front condo on the sand</td>\n",
       "      <td>8435</td>\n",
       "      <td>Jef Karchin'S MISSIONBEACHRETREAT</td>\n",
       "      <td>NaN</td>\n",
       "      <td>Mission Bay</td>\n",
       "      <td>32.784304</td>\n",
       "      <td>-117.252578</td>\n",
       "      <td>Entire home/apt</td>\n",
       "      <td>2050</td>\n",
       "      <td>3</td>\n",
       "      <td>0</td>\n",
       "      <td>NaN</td>\n",
       "      <td>NaN</td>\n",
       "      <td>2</td>\n",
       "      <td>328</td>\n",
       "    </tr>\n",
       "  </tbody>\n",
       "</table>\n",
       "</div>"
      ],
      "text/plain": [
       "     id                                            name  host_id  \\\n",
       "0     6  Large Craftsmen w/ yard ~ Perfect for families       29   \n",
       "1  5570                   Ocean front condo on the sand     8435   \n",
       "\n",
       "                           host_name  neighbourhood_group neighbourhood  \\\n",
       "0                               Sara                  NaN   North Hills   \n",
       "1  Jef Karchin'S MISSIONBEACHRETREAT                  NaN   Mission Bay   \n",
       "\n",
       "    latitude   longitude        room_type  price  minimum_nights  \\\n",
       "0  32.753993 -117.129705  Entire home/apt    295               2   \n",
       "1  32.784304 -117.252578  Entire home/apt   2050               3   \n",
       "\n",
       "   number_of_reviews last_review  reviews_per_month  \\\n",
       "0                149  2018-10-07               1.18   \n",
       "1                  0         NaN                NaN   \n",
       "\n",
       "   calculated_host_listings_count  availability_365  \n",
       "0                               1                20  \n",
       "1                               2               328  "
      ]
     },
     "execution_count": 19,
     "metadata": {},
     "output_type": "execute_result"
    }
   ],
   "source": [
    "#Loading summary information and metrics for listings in San Diego in a pandas dataframe\n",
    "\n",
    "df_listings_summary = pd.read_csv('C:\\\\Users\\Antony\\\\Documents\\\\My Tableau Repository\\\\Datasources\\\\Tableau\\\\MadStreetDen assignment\\\\MSD- copy\\\\listings_summary.csv')\n",
    "df_listings_summary.head(2)"
   ]
  },
  {
   "cell_type": "code",
   "execution_count": 7,
   "metadata": {},
   "outputs": [
    {
     "data": {
      "text/html": [
       "<div>\n",
       "<style scoped>\n",
       "    .dataframe tbody tr th:only-of-type {\n",
       "        vertical-align: middle;\n",
       "    }\n",
       "\n",
       "    .dataframe tbody tr th {\n",
       "        vertical-align: top;\n",
       "    }\n",
       "\n",
       "    .dataframe thead th {\n",
       "        text-align: right;\n",
       "    }\n",
       "</style>\n",
       "<table border=\"1\" class=\"dataframe\">\n",
       "  <thead>\n",
       "    <tr style=\"text-align: right;\">\n",
       "      <th></th>\n",
       "      <th>listing_id</th>\n",
       "      <th>id</th>\n",
       "      <th>date</th>\n",
       "      <th>reviewer_id</th>\n",
       "      <th>reviewer_name</th>\n",
       "      <th>comments</th>\n",
       "    </tr>\n",
       "  </thead>\n",
       "  <tbody>\n",
       "    <tr>\n",
       "      <th>0</th>\n",
       "      <td>6</td>\n",
       "      <td>8</td>\n",
       "      <td>2008-06-22</td>\n",
       "      <td>415</td>\n",
       "      <td>Terrence</td>\n",
       "      <td>Sara is an awesome hostess.  She was very cons...</td>\n",
       "    </tr>\n",
       "    <tr>\n",
       "      <th>1</th>\n",
       "      <td>6</td>\n",
       "      <td>4383</td>\n",
       "      <td>2009-06-22</td>\n",
       "      <td>3762</td>\n",
       "      <td>Christine</td>\n",
       "      <td>My stay at “Craftsmen” was wonderful!  Sara wa...</td>\n",
       "    </tr>\n",
       "  </tbody>\n",
       "</table>\n",
       "</div>"
      ],
      "text/plain": [
       "   listing_id    id        date  reviewer_id reviewer_name  \\\n",
       "0           6     8  2008-06-22          415      Terrence   \n",
       "1           6  4383  2009-06-22         3762     Christine   \n",
       "\n",
       "                                            comments  \n",
       "0  Sara is an awesome hostess.  She was very cons...  \n",
       "1  My stay at “Craftsmen” was wonderful!  Sara wa...  "
      ]
     },
     "execution_count": 7,
     "metadata": {},
     "output_type": "execute_result"
    }
   ],
   "source": [
    "#Loading detailed Review Data for listings in San Diego in a pandas dataframe\n",
    "\n",
    "df_reviews = pd.read_csv('C:\\\\Users\\Antony\\\\Documents\\\\My Tableau Repository\\\\Datasources\\\\Tableau\\\\MadStreetDen assignment\\\\MSD- copy\\\\reviews.csv')\n",
    "df_reviews.head(2)"
   ]
  },
  {
   "cell_type": "code",
   "execution_count": 8,
   "metadata": {},
   "outputs": [
    {
     "data": {
      "text/html": [
       "<div>\n",
       "<style scoped>\n",
       "    .dataframe tbody tr th:only-of-type {\n",
       "        vertical-align: middle;\n",
       "    }\n",
       "\n",
       "    .dataframe tbody tr th {\n",
       "        vertical-align: top;\n",
       "    }\n",
       "\n",
       "    .dataframe thead th {\n",
       "        text-align: right;\n",
       "    }\n",
       "</style>\n",
       "<table border=\"1\" class=\"dataframe\">\n",
       "  <thead>\n",
       "    <tr style=\"text-align: right;\">\n",
       "      <th></th>\n",
       "      <th>listing_id</th>\n",
       "      <th>date</th>\n",
       "    </tr>\n",
       "  </thead>\n",
       "  <tbody>\n",
       "    <tr>\n",
       "      <th>0</th>\n",
       "      <td>6</td>\n",
       "      <td>2008-06-22</td>\n",
       "    </tr>\n",
       "    <tr>\n",
       "      <th>1</th>\n",
       "      <td>6</td>\n",
       "      <td>2009-06-22</td>\n",
       "    </tr>\n",
       "  </tbody>\n",
       "</table>\n",
       "</div>"
      ],
      "text/plain": [
       "   listing_id        date\n",
       "0           6  2008-06-22\n",
       "1           6  2009-06-22"
      ]
     },
     "execution_count": 8,
     "metadata": {},
     "output_type": "execute_result"
    }
   ],
   "source": [
    "# Loading summary Review data and Listing ID in San Diego in a pandas dataframe \n",
    "\n",
    "df_reviews_summary = pd.read_csv('C:\\\\Users\\Antony\\\\Documents\\\\My Tableau Repository\\\\Datasources\\\\Tableau\\\\MadStreetDen assignment\\\\MSD- copy\\\\reviews_summary.csv')\n",
    "df_reviews_summary.head(2)"
   ]
  },
  {
   "cell_type": "code",
   "execution_count": 9,
   "metadata": {},
   "outputs": [
    {
     "data": {
      "text/html": [
       "<div>\n",
       "<style scoped>\n",
       "    .dataframe tbody tr th:only-of-type {\n",
       "        vertical-align: middle;\n",
       "    }\n",
       "\n",
       "    .dataframe tbody tr th {\n",
       "        vertical-align: top;\n",
       "    }\n",
       "\n",
       "    .dataframe thead th {\n",
       "        text-align: right;\n",
       "    }\n",
       "</style>\n",
       "<table border=\"1\" class=\"dataframe\">\n",
       "  <thead>\n",
       "    <tr style=\"text-align: right;\">\n",
       "      <th></th>\n",
       "      <th>neighbourhood_group</th>\n",
       "      <th>neighbourhood</th>\n",
       "    </tr>\n",
       "  </thead>\n",
       "  <tbody>\n",
       "    <tr>\n",
       "      <th>0</th>\n",
       "      <td>NaN</td>\n",
       "      <td>Allied Gardens</td>\n",
       "    </tr>\n",
       "    <tr>\n",
       "      <th>1</th>\n",
       "      <td>NaN</td>\n",
       "      <td>Alta Vista</td>\n",
       "    </tr>\n",
       "  </tbody>\n",
       "</table>\n",
       "</div>"
      ],
      "text/plain": [
       "   neighbourhood_group   neighbourhood\n",
       "0                  NaN  Allied Gardens\n",
       "1                  NaN      Alta Vista"
      ]
     },
     "execution_count": 9,
     "metadata": {},
     "output_type": "execute_result"
    }
   ],
   "source": [
    "# Loading summary neighbourhood list for geo filter. in San Diego in a pandas dataframe\n",
    "\n",
    "df_neighbourhoods = pd.read_csv('C:\\\\Users\\Antony\\\\Documents\\\\My Tableau Repository\\\\Datasources\\\\Tableau\\\\MadStreetDen assignment\\\\MSD- copy\\\\neighbourhoods.csv')\n",
    "df_neighbourhoods.head(2)"
   ]
  },
  {
   "cell_type": "code",
   "execution_count": 10,
   "metadata": {},
   "outputs": [
    {
     "data": {
      "text/html": [
       "<div>\n",
       "<style scoped>\n",
       "    .dataframe tbody tr th:only-of-type {\n",
       "        vertical-align: middle;\n",
       "    }\n",
       "\n",
       "    .dataframe tbody tr th {\n",
       "        vertical-align: top;\n",
       "    }\n",
       "\n",
       "    .dataframe thead th {\n",
       "        text-align: right;\n",
       "    }\n",
       "</style>\n",
       "<table border=\"1\" class=\"dataframe\">\n",
       "  <thead>\n",
       "    <tr style=\"text-align: right;\">\n",
       "      <th></th>\n",
       "      <th>listing_id</th>\n",
       "      <th>date</th>\n",
       "      <th>available</th>\n",
       "      <th>price</th>\n",
       "    </tr>\n",
       "  </thead>\n",
       "  <tbody>\n",
       "    <tr>\n",
       "      <th>0</th>\n",
       "      <td>635756</td>\n",
       "      <td>2019-11-14</td>\n",
       "      <td>t</td>\n",
       "      <td>$67.00</td>\n",
       "    </tr>\n",
       "    <tr>\n",
       "      <th>1</th>\n",
       "      <td>292285</td>\n",
       "      <td>2019-11-14</td>\n",
       "      <td>f</td>\n",
       "      <td>NaN</td>\n",
       "    </tr>\n",
       "  </tbody>\n",
       "</table>\n",
       "</div>"
      ],
      "text/plain": [
       "   listing_id        date available   price\n",
       "0      635756  2019-11-14         t  $67.00\n",
       "1      292285  2019-11-14         f     NaN"
      ]
     },
     "execution_count": 10,
     "metadata": {},
     "output_type": "execute_result"
    }
   ],
   "source": [
    "#Loading detailed Calendar Data for listings in San Diego in a pandas dataframe\n",
    "\n",
    "df_calendar = pd.read_csv('C:\\\\Users\\Antony\\\\Documents\\\\My Tableau Repository\\\\Datasources\\\\Tableau\\\\MadStreetDen assignment\\\\MSD- copy\\\\calendar.csv')\n",
    "df_calendar.head(2)"
   ]
  },
  {
   "cell_type": "markdown",
   "metadata": {},
   "source": [
    "\n",
    "## 2. Data cleaning and transformations"
   ]
  },
  {
   "cell_type": "markdown",
   "metadata": {},
   "source": [
    "### 2.1 listings and listings_summary data "
   ]
  },
  {
   "cell_type": "code",
   "execution_count": null,
   "metadata": {},
   "outputs": [],
   "source": [
    "prof = ProfileReport(df_listings)\n",
    "prof.to_file(output_file='listings_prof.html')\n"
   ]
  },
  {
   "cell_type": "markdown",
   "metadata": {
    "slideshow": {
     "slide_type": "slide"
    }
   },
   "source": [
    "Information gathered from Profile report\n",
    "\n",
    "Number of variables = 96\n",
    "Number of observations = 11922\n",
    "Numeric = 27\n",
    "Categorical = 55\n",
    "Total Missing (%)= 15.6%\n",
    "\n",
    "experiences_offered has constant value none, can be ignored \n",
    "has_availability has constant value t, can be ignored\n",
    "host_acceptance_rate has constant value, can be ignored\n",
    "host_total_listings_count is highly correlated with host_listings_count\n",
    "is_business_travel_ready has constant value f, can be ignored\n",
    "medium_url has constant value, can be ignored\n",
    "neighbourhood_group_cleansed has 100.0% missing values\n",
    "requires_license has constant value f, can be ignored\n",
    "scrape_id has constant value, can be ignored\n",
    "thumbnail_url has constant value, can be ignored\n",
    "xl_picture_url has constant value, can be ignored"
   ]
  },
  {
   "cell_type": "code",
   "execution_count": 11,
   "metadata": {},
   "outputs": [],
   "source": [
    "# Dropping columns of irrelevance based on the pandas profiling report generated \n",
    "df_listings.drop(columns=['experiences_offered','has_availability','host_acceptance_rate','host_total_listings_count','is_business_travel_ready','medium_url',\"neighbourhood_group_cleansed\",\"requires_license\",\"scrape_id\",\"thumbnail_url\",\"xl_picture_url\"],inplace= True)"
   ]
  },
  {
   "cell_type": "code",
   "execution_count": 12,
   "metadata": {},
   "outputs": [
    {
     "data": {
      "text/html": [
       "<div>\n",
       "<style scoped>\n",
       "    .dataframe tbody tr th:only-of-type {\n",
       "        vertical-align: middle;\n",
       "    }\n",
       "\n",
       "    .dataframe tbody tr th {\n",
       "        vertical-align: top;\n",
       "    }\n",
       "\n",
       "    .dataframe thead th {\n",
       "        text-align: right;\n",
       "    }\n",
       "</style>\n",
       "<table border=\"1\" class=\"dataframe\">\n",
       "  <thead>\n",
       "    <tr style=\"text-align: right;\">\n",
       "      <th></th>\n",
       "      <th>id</th>\n",
       "      <th>host_id</th>\n",
       "      <th>host_listings_count</th>\n",
       "      <th>zipcode</th>\n",
       "      <th>latitude</th>\n",
       "      <th>longitude</th>\n",
       "      <th>accommodates</th>\n",
       "      <th>bathrooms</th>\n",
       "      <th>bedrooms</th>\n",
       "      <th>beds</th>\n",
       "      <th>...</th>\n",
       "      <th>review_scores_rating</th>\n",
       "      <th>review_scores_accuracy</th>\n",
       "      <th>review_scores_cleanliness</th>\n",
       "      <th>review_scores_checkin</th>\n",
       "      <th>review_scores_communication</th>\n",
       "      <th>review_scores_location</th>\n",
       "      <th>review_scores_value</th>\n",
       "      <th>license</th>\n",
       "      <th>calculated_host_listings_count</th>\n",
       "      <th>reviews_per_month</th>\n",
       "    </tr>\n",
       "  </thead>\n",
       "  <tbody>\n",
       "    <tr>\n",
       "      <th>count</th>\n",
       "      <td>1.192200e+04</td>\n",
       "      <td>1.192200e+04</td>\n",
       "      <td>11916.000000</td>\n",
       "      <td>11755.000000</td>\n",
       "      <td>11922.000000</td>\n",
       "      <td>11922.000000</td>\n",
       "      <td>11922.000000</td>\n",
       "      <td>11918.000000</td>\n",
       "      <td>11917.000000</td>\n",
       "      <td>11914.000000</td>\n",
       "      <td>...</td>\n",
       "      <td>9629.000000</td>\n",
       "      <td>9623.000000</td>\n",
       "      <td>9627.000000</td>\n",
       "      <td>9612.000000</td>\n",
       "      <td>9621.000000</td>\n",
       "      <td>9609.000000</td>\n",
       "      <td>9607.000000</td>\n",
       "      <td>4.800000e+01</td>\n",
       "      <td>11922.00000</td>\n",
       "      <td>9759.000000</td>\n",
       "    </tr>\n",
       "    <tr>\n",
       "      <th>mean</th>\n",
       "      <td>1.728569e+07</td>\n",
       "      <td>6.085778e+07</td>\n",
       "      <td>40.532561</td>\n",
       "      <td>92055.856572</td>\n",
       "      <td>32.770292</td>\n",
       "      <td>-117.181854</td>\n",
       "      <td>4.297182</td>\n",
       "      <td>1.480156</td>\n",
       "      <td>1.598641</td>\n",
       "      <td>2.309048</td>\n",
       "      <td>...</td>\n",
       "      <td>95.263994</td>\n",
       "      <td>9.706329</td>\n",
       "      <td>9.589903</td>\n",
       "      <td>9.833437</td>\n",
       "      <td>9.820809</td>\n",
       "      <td>9.751067</td>\n",
       "      <td>9.519933</td>\n",
       "      <td>9.749303e+07</td>\n",
       "      <td>10.32612</td>\n",
       "      <td>1.935757</td>\n",
       "    </tr>\n",
       "    <tr>\n",
       "      <th>std</th>\n",
       "      <td>8.205400e+06</td>\n",
       "      <td>5.850494e+07</td>\n",
       "      <td>188.505044</td>\n",
       "      <td>1743.770386</td>\n",
       "      <td>0.065639</td>\n",
       "      <td>0.064335</td>\n",
       "      <td>2.906190</td>\n",
       "      <td>0.880883</td>\n",
       "      <td>1.190178</td>\n",
       "      <td>1.831207</td>\n",
       "      <td>...</td>\n",
       "      <td>6.874241</td>\n",
       "      <td>0.696525</td>\n",
       "      <td>0.794416</td>\n",
       "      <td>0.577590</td>\n",
       "      <td>0.593369</td>\n",
       "      <td>0.579499</td>\n",
       "      <td>0.791108</td>\n",
       "      <td>3.547929e+08</td>\n",
       "      <td>26.20795</td>\n",
       "      <td>2.056274</td>\n",
       "    </tr>\n",
       "    <tr>\n",
       "      <th>min</th>\n",
       "      <td>6.000000e+00</td>\n",
       "      <td>2.900000e+01</td>\n",
       "      <td>0.000000</td>\n",
       "      <td>12345.000000</td>\n",
       "      <td>32.532614</td>\n",
       "      <td>-117.281401</td>\n",
       "      <td>1.000000</td>\n",
       "      <td>0.000000</td>\n",
       "      <td>0.000000</td>\n",
       "      <td>0.000000</td>\n",
       "      <td>...</td>\n",
       "      <td>20.000000</td>\n",
       "      <td>2.000000</td>\n",
       "      <td>2.000000</td>\n",
       "      <td>2.000000</td>\n",
       "      <td>2.000000</td>\n",
       "      <td>2.000000</td>\n",
       "      <td>2.000000</td>\n",
       "      <td>5.056300e+05</td>\n",
       "      <td>1.00000</td>\n",
       "      <td>0.010000</td>\n",
       "    </tr>\n",
       "    <tr>\n",
       "      <th>25%</th>\n",
       "      <td>1.159462e+07</td>\n",
       "      <td>1.224305e+07</td>\n",
       "      <td>1.000000</td>\n",
       "      <td>92101.000000</td>\n",
       "      <td>32.726506</td>\n",
       "      <td>-117.245726</td>\n",
       "      <td>2.000000</td>\n",
       "      <td>1.000000</td>\n",
       "      <td>1.000000</td>\n",
       "      <td>1.000000</td>\n",
       "      <td>...</td>\n",
       "      <td>93.000000</td>\n",
       "      <td>10.000000</td>\n",
       "      <td>9.000000</td>\n",
       "      <td>10.000000</td>\n",
       "      <td>10.000000</td>\n",
       "      <td>10.000000</td>\n",
       "      <td>9.000000</td>\n",
       "      <td>6.069060e+05</td>\n",
       "      <td>1.00000</td>\n",
       "      <td>0.360000</td>\n",
       "    </tr>\n",
       "    <tr>\n",
       "      <th>50%</th>\n",
       "      <td>1.859936e+07</td>\n",
       "      <td>3.869078e+07</td>\n",
       "      <td>2.000000</td>\n",
       "      <td>92107.000000</td>\n",
       "      <td>32.759515</td>\n",
       "      <td>-117.168460</td>\n",
       "      <td>4.000000</td>\n",
       "      <td>1.000000</td>\n",
       "      <td>1.000000</td>\n",
       "      <td>2.000000</td>\n",
       "      <td>...</td>\n",
       "      <td>97.000000</td>\n",
       "      <td>10.000000</td>\n",
       "      <td>10.000000</td>\n",
       "      <td>10.000000</td>\n",
       "      <td>10.000000</td>\n",
       "      <td>10.000000</td>\n",
       "      <td>10.000000</td>\n",
       "      <td>6.239040e+05</td>\n",
       "      <td>2.00000</td>\n",
       "      <td>1.140000</td>\n",
       "    </tr>\n",
       "    <tr>\n",
       "      <th>75%</th>\n",
       "      <td>2.403747e+07</td>\n",
       "      <td>9.505083e+07</td>\n",
       "      <td>7.000000</td>\n",
       "      <td>92110.000000</td>\n",
       "      <td>32.799578</td>\n",
       "      <td>-117.141241</td>\n",
       "      <td>6.000000</td>\n",
       "      <td>2.000000</td>\n",
       "      <td>2.000000</td>\n",
       "      <td>3.000000</td>\n",
       "      <td>...</td>\n",
       "      <td>100.000000</td>\n",
       "      <td>10.000000</td>\n",
       "      <td>10.000000</td>\n",
       "      <td>10.000000</td>\n",
       "      <td>10.000000</td>\n",
       "      <td>10.000000</td>\n",
       "      <td>10.000000</td>\n",
       "      <td>6.268865e+05</td>\n",
       "      <td>5.00000</td>\n",
       "      <td>2.950000</td>\n",
       "    </tr>\n",
       "    <tr>\n",
       "      <th>max</th>\n",
       "      <td>3.004997e+07</td>\n",
       "      <td>2.251816e+08</td>\n",
       "      <td>2488.000000</td>\n",
       "      <td>92663.000000</td>\n",
       "      <td>33.086065</td>\n",
       "      <td>-116.933520</td>\n",
       "      <td>40.000000</td>\n",
       "      <td>27.500000</td>\n",
       "      <td>25.000000</td>\n",
       "      <td>23.000000</td>\n",
       "      <td>...</td>\n",
       "      <td>100.000000</td>\n",
       "      <td>10.000000</td>\n",
       "      <td>10.000000</td>\n",
       "      <td>10.000000</td>\n",
       "      <td>10.000000</td>\n",
       "      <td>10.000000</td>\n",
       "      <td>10.000000</td>\n",
       "      <td>2.011643e+09</td>\n",
       "      <td>161.00000</td>\n",
       "      <td>18.950000</td>\n",
       "    </tr>\n",
       "  </tbody>\n",
       "</table>\n",
       "<p>8 rows × 29 columns</p>\n",
       "</div>"
      ],
      "text/plain": [
       "                 id       host_id  host_listings_count       zipcode  \\\n",
       "count  1.192200e+04  1.192200e+04         11916.000000  11755.000000   \n",
       "mean   1.728569e+07  6.085778e+07            40.532561  92055.856572   \n",
       "std    8.205400e+06  5.850494e+07           188.505044   1743.770386   \n",
       "min    6.000000e+00  2.900000e+01             0.000000  12345.000000   \n",
       "25%    1.159462e+07  1.224305e+07             1.000000  92101.000000   \n",
       "50%    1.859936e+07  3.869078e+07             2.000000  92107.000000   \n",
       "75%    2.403747e+07  9.505083e+07             7.000000  92110.000000   \n",
       "max    3.004997e+07  2.251816e+08          2488.000000  92663.000000   \n",
       "\n",
       "           latitude     longitude  accommodates     bathrooms      bedrooms  \\\n",
       "count  11922.000000  11922.000000  11922.000000  11918.000000  11917.000000   \n",
       "mean      32.770292   -117.181854      4.297182      1.480156      1.598641   \n",
       "std        0.065639      0.064335      2.906190      0.880883      1.190178   \n",
       "min       32.532614   -117.281401      1.000000      0.000000      0.000000   \n",
       "25%       32.726506   -117.245726      2.000000      1.000000      1.000000   \n",
       "50%       32.759515   -117.168460      4.000000      1.000000      1.000000   \n",
       "75%       32.799578   -117.141241      6.000000      2.000000      2.000000   \n",
       "max       33.086065   -116.933520     40.000000     27.500000     25.000000   \n",
       "\n",
       "               beds  ...  review_scores_rating  review_scores_accuracy  \\\n",
       "count  11914.000000  ...           9629.000000             9623.000000   \n",
       "mean       2.309048  ...             95.263994                9.706329   \n",
       "std        1.831207  ...              6.874241                0.696525   \n",
       "min        0.000000  ...             20.000000                2.000000   \n",
       "25%        1.000000  ...             93.000000               10.000000   \n",
       "50%        2.000000  ...             97.000000               10.000000   \n",
       "75%        3.000000  ...            100.000000               10.000000   \n",
       "max       23.000000  ...            100.000000               10.000000   \n",
       "\n",
       "       review_scores_cleanliness  review_scores_checkin  \\\n",
       "count                9627.000000            9612.000000   \n",
       "mean                    9.589903               9.833437   \n",
       "std                     0.794416               0.577590   \n",
       "min                     2.000000               2.000000   \n",
       "25%                     9.000000              10.000000   \n",
       "50%                    10.000000              10.000000   \n",
       "75%                    10.000000              10.000000   \n",
       "max                    10.000000              10.000000   \n",
       "\n",
       "       review_scores_communication  review_scores_location  \\\n",
       "count                  9621.000000             9609.000000   \n",
       "mean                      9.820809                9.751067   \n",
       "std                       0.593369                0.579499   \n",
       "min                       2.000000                2.000000   \n",
       "25%                      10.000000               10.000000   \n",
       "50%                      10.000000               10.000000   \n",
       "75%                      10.000000               10.000000   \n",
       "max                      10.000000               10.000000   \n",
       "\n",
       "       review_scores_value       license  calculated_host_listings_count  \\\n",
       "count          9607.000000  4.800000e+01                     11922.00000   \n",
       "mean              9.519933  9.749303e+07                        10.32612   \n",
       "std               0.791108  3.547929e+08                        26.20795   \n",
       "min               2.000000  5.056300e+05                         1.00000   \n",
       "25%               9.000000  6.069060e+05                         1.00000   \n",
       "50%              10.000000  6.239040e+05                         2.00000   \n",
       "75%              10.000000  6.268865e+05                         5.00000   \n",
       "max              10.000000  2.011643e+09                       161.00000   \n",
       "\n",
       "       reviews_per_month  \n",
       "count        9759.000000  \n",
       "mean            1.935757  \n",
       "std             2.056274  \n",
       "min             0.010000  \n",
       "25%             0.360000  \n",
       "50%             1.140000  \n",
       "75%             2.950000  \n",
       "max            18.950000  \n",
       "\n",
       "[8 rows x 29 columns]"
      ]
     },
     "execution_count": 12,
     "metadata": {},
     "output_type": "execute_result"
    }
   ],
   "source": [
    "df_listings.describe()"
   ]
  },
  {
   "cell_type": "code",
   "execution_count": 13,
   "metadata": {},
   "outputs": [
    {
     "data": {
      "text/plain": [
       "id                                     0\n",
       "listing_url                            0\n",
       "last_scraped                           0\n",
       "name                                   2\n",
       "summary                              413\n",
       "                                    ... \n",
       "cancellation_policy                    0\n",
       "require_guest_profile_picture          0\n",
       "require_guest_phone_verification       0\n",
       "calculated_host_listings_count         0\n",
       "reviews_per_month                   2163\n",
       "Length: 85, dtype: int64"
      ]
     },
     "execution_count": 13,
     "metadata": {},
     "output_type": "execute_result"
    }
   ],
   "source": [
    "df_listings.isnull().sum()\n"
   ]
  },
  {
   "cell_type": "code",
   "execution_count": 14,
   "metadata": {},
   "outputs": [
    {
     "data": {
      "text/plain": [
       "(11922, 85)"
      ]
     },
     "execution_count": 14,
     "metadata": {},
     "output_type": "execute_result"
    }
   ],
   "source": [
    "df_listings.shape"
   ]
  },
  {
   "cell_type": "markdown",
   "metadata": {},
   "source": [
    "##### Dropping columns with excessive missing values ( Over 90% missing)"
   ]
  },
  {
   "cell_type": "code",
   "execution_count": 15,
   "metadata": {},
   "outputs": [],
   "source": [
    "for cols in df_listings.columns:\n",
    "    if df_listings[cols].isnull().sum() >10000:\n",
    "        df_listings.drop(cols,axis=1, inplace = True)\n",
    "\n"
   ]
  },
  {
   "cell_type": "code",
   "execution_count": 16,
   "metadata": {},
   "outputs": [],
   "source": [
    "df_listings[['last_scraped']].value_counts()\n",
    "df_listings.drop(columns=['last_scraped'],inplace= True)"
   ]
  },
  {
   "cell_type": "code",
   "execution_count": 17,
   "metadata": {},
   "outputs": [],
   "source": [
    "df_listings['price'] = df_listings['price'].replace('[\\$,]','',regex=True).astype(float)"
   ]
  },
  {
   "cell_type": "code",
   "execution_count": 20,
   "metadata": {},
   "outputs": [
    {
     "data": {
      "text/html": [
       "<div>\n",
       "<style scoped>\n",
       "    .dataframe tbody tr th:only-of-type {\n",
       "        vertical-align: middle;\n",
       "    }\n",
       "\n",
       "    .dataframe tbody tr th {\n",
       "        vertical-align: top;\n",
       "    }\n",
       "\n",
       "    .dataframe thead th {\n",
       "        text-align: right;\n",
       "    }\n",
       "</style>\n",
       "<table border=\"1\" class=\"dataframe\">\n",
       "  <thead>\n",
       "    <tr style=\"text-align: right;\">\n",
       "      <th></th>\n",
       "      <th>id</th>\n",
       "      <th>host_id</th>\n",
       "      <th>neighbourhood_group</th>\n",
       "      <th>latitude</th>\n",
       "      <th>longitude</th>\n",
       "      <th>price</th>\n",
       "      <th>minimum_nights</th>\n",
       "      <th>number_of_reviews</th>\n",
       "      <th>reviews_per_month</th>\n",
       "      <th>calculated_host_listings_count</th>\n",
       "      <th>availability_365</th>\n",
       "    </tr>\n",
       "  </thead>\n",
       "  <tbody>\n",
       "    <tr>\n",
       "      <th>count</th>\n",
       "      <td>1.192200e+04</td>\n",
       "      <td>1.192200e+04</td>\n",
       "      <td>0.0</td>\n",
       "      <td>11922.000000</td>\n",
       "      <td>11922.000000</td>\n",
       "      <td>11922.000000</td>\n",
       "      <td>11922.000000</td>\n",
       "      <td>11922.000000</td>\n",
       "      <td>9759.000000</td>\n",
       "      <td>11922.00000</td>\n",
       "      <td>11922.000000</td>\n",
       "    </tr>\n",
       "    <tr>\n",
       "      <th>mean</th>\n",
       "      <td>1.728569e+07</td>\n",
       "      <td>6.085778e+07</td>\n",
       "      <td>NaN</td>\n",
       "      <td>32.770292</td>\n",
       "      <td>-117.181854</td>\n",
       "      <td>212.707851</td>\n",
       "      <td>4.653162</td>\n",
       "      <td>28.900436</td>\n",
       "      <td>1.935757</td>\n",
       "      <td>10.32612</td>\n",
       "      <td>152.486412</td>\n",
       "    </tr>\n",
       "    <tr>\n",
       "      <th>std</th>\n",
       "      <td>8.205400e+06</td>\n",
       "      <td>5.850494e+07</td>\n",
       "      <td>NaN</td>\n",
       "      <td>0.065639</td>\n",
       "      <td>0.064335</td>\n",
       "      <td>306.991755</td>\n",
       "      <td>14.482572</td>\n",
       "      <td>51.470547</td>\n",
       "      <td>2.056274</td>\n",
       "      <td>26.20795</td>\n",
       "      <td>131.039167</td>\n",
       "    </tr>\n",
       "    <tr>\n",
       "      <th>min</th>\n",
       "      <td>6.000000e+00</td>\n",
       "      <td>2.900000e+01</td>\n",
       "      <td>NaN</td>\n",
       "      <td>32.532614</td>\n",
       "      <td>-117.281401</td>\n",
       "      <td>0.000000</td>\n",
       "      <td>1.000000</td>\n",
       "      <td>0.000000</td>\n",
       "      <td>0.010000</td>\n",
       "      <td>1.00000</td>\n",
       "      <td>0.000000</td>\n",
       "    </tr>\n",
       "    <tr>\n",
       "      <th>25%</th>\n",
       "      <td>1.159462e+07</td>\n",
       "      <td>1.224305e+07</td>\n",
       "      <td>NaN</td>\n",
       "      <td>32.726506</td>\n",
       "      <td>-117.245726</td>\n",
       "      <td>80.000000</td>\n",
       "      <td>1.000000</td>\n",
       "      <td>1.000000</td>\n",
       "      <td>0.360000</td>\n",
       "      <td>1.00000</td>\n",
       "      <td>22.000000</td>\n",
       "    </tr>\n",
       "    <tr>\n",
       "      <th>50%</th>\n",
       "      <td>1.859936e+07</td>\n",
       "      <td>3.869078e+07</td>\n",
       "      <td>NaN</td>\n",
       "      <td>32.759515</td>\n",
       "      <td>-117.168460</td>\n",
       "      <td>130.000000</td>\n",
       "      <td>2.000000</td>\n",
       "      <td>8.000000</td>\n",
       "      <td>1.140000</td>\n",
       "      <td>2.00000</td>\n",
       "      <td>132.000000</td>\n",
       "    </tr>\n",
       "    <tr>\n",
       "      <th>75%</th>\n",
       "      <td>2.403747e+07</td>\n",
       "      <td>9.505083e+07</td>\n",
       "      <td>NaN</td>\n",
       "      <td>32.799578</td>\n",
       "      <td>-117.141241</td>\n",
       "      <td>249.000000</td>\n",
       "      <td>3.000000</td>\n",
       "      <td>33.000000</td>\n",
       "      <td>2.950000</td>\n",
       "      <td>5.00000</td>\n",
       "      <td>287.000000</td>\n",
       "    </tr>\n",
       "    <tr>\n",
       "      <th>max</th>\n",
       "      <td>3.004997e+07</td>\n",
       "      <td>2.251816e+08</td>\n",
       "      <td>NaN</td>\n",
       "      <td>33.086065</td>\n",
       "      <td>-116.933520</td>\n",
       "      <td>10000.000000</td>\n",
       "      <td>500.000000</td>\n",
       "      <td>686.000000</td>\n",
       "      <td>18.950000</td>\n",
       "      <td>161.00000</td>\n",
       "      <td>365.000000</td>\n",
       "    </tr>\n",
       "  </tbody>\n",
       "</table>\n",
       "</div>"
      ],
      "text/plain": [
       "                 id       host_id  neighbourhood_group      latitude  \\\n",
       "count  1.192200e+04  1.192200e+04                  0.0  11922.000000   \n",
       "mean   1.728569e+07  6.085778e+07                  NaN     32.770292   \n",
       "std    8.205400e+06  5.850494e+07                  NaN      0.065639   \n",
       "min    6.000000e+00  2.900000e+01                  NaN     32.532614   \n",
       "25%    1.159462e+07  1.224305e+07                  NaN     32.726506   \n",
       "50%    1.859936e+07  3.869078e+07                  NaN     32.759515   \n",
       "75%    2.403747e+07  9.505083e+07                  NaN     32.799578   \n",
       "max    3.004997e+07  2.251816e+08                  NaN     33.086065   \n",
       "\n",
       "          longitude         price  minimum_nights  number_of_reviews  \\\n",
       "count  11922.000000  11922.000000    11922.000000       11922.000000   \n",
       "mean    -117.181854    212.707851        4.653162          28.900436   \n",
       "std        0.064335    306.991755       14.482572          51.470547   \n",
       "min     -117.281401      0.000000        1.000000           0.000000   \n",
       "25%     -117.245726     80.000000        1.000000           1.000000   \n",
       "50%     -117.168460    130.000000        2.000000           8.000000   \n",
       "75%     -117.141241    249.000000        3.000000          33.000000   \n",
       "max     -116.933520  10000.000000      500.000000         686.000000   \n",
       "\n",
       "       reviews_per_month  calculated_host_listings_count  availability_365  \n",
       "count        9759.000000                     11922.00000      11922.000000  \n",
       "mean            1.935757                        10.32612        152.486412  \n",
       "std             2.056274                        26.20795        131.039167  \n",
       "min             0.010000                         1.00000          0.000000  \n",
       "25%             0.360000                         1.00000         22.000000  \n",
       "50%             1.140000                         2.00000        132.000000  \n",
       "75%             2.950000                         5.00000        287.000000  \n",
       "max            18.950000                       161.00000        365.000000  "
      ]
     },
     "execution_count": 20,
     "metadata": {},
     "output_type": "execute_result"
    }
   ],
   "source": [
    "df_listings_summary.describe()"
   ]
  },
  {
   "cell_type": "code",
   "execution_count": 21,
   "metadata": {},
   "outputs": [
    {
     "data": {
      "text/plain": [
       "id                                    0\n",
       "name                                  2\n",
       "host_id                               0\n",
       "host_name                             6\n",
       "neighbourhood_group               11922\n",
       "neighbourhood                         0\n",
       "latitude                              0\n",
       "longitude                             0\n",
       "room_type                             0\n",
       "price                                 0\n",
       "minimum_nights                        0\n",
       "number_of_reviews                     0\n",
       "last_review                        2160\n",
       "reviews_per_month                  2163\n",
       "calculated_host_listings_count        0\n",
       "availability_365                      0\n",
       "dtype: int64"
      ]
     },
     "execution_count": 21,
     "metadata": {},
     "output_type": "execute_result"
    }
   ],
   "source": [
    "df_listings_summary.isnull().sum()"
   ]
  },
  {
   "cell_type": "code",
   "execution_count": 22,
   "metadata": {},
   "outputs": [],
   "source": [
    "df_listings_summary.drop(columns=['neighbourhood_group'],inplace= True)"
   ]
  },
  {
   "cell_type": "code",
   "execution_count": 23,
   "metadata": {},
   "outputs": [],
   "source": [
    "listings = pd.merge(df_listings, df_listings_summary)\n"
   ]
  },
  {
   "cell_type": "code",
   "execution_count": 24,
   "metadata": {},
   "outputs": [],
   "source": [
    "listings.to_csv(r'C:\\\\Users\\Antony\\\\Documents\\\\My Tableau Repository\\\\Datasources\\\\Tableau\\\\MadStreetDen assignment\\\\MSD- copy\\\\listings_final.csv', index=False) "
   ]
  },
  {
   "cell_type": "markdown",
   "metadata": {},
   "source": [
    "##### Additional data cleaning on listings_final.csv have been performed in Microsoft Excel \n",
    "1. Removing duplicates \n",
    "2. Correction of spelling erros in neighbourhoods columns to avoid duplicates \n"
   ]
  },
  {
   "cell_type": "markdown",
   "metadata": {},
   "source": [
    "### 2.2 reviews and reviews_summary data"
   ]
  },
  {
   "cell_type": "code",
   "execution_count": 25,
   "metadata": {},
   "outputs": [
    {
     "data": {
      "text/plain": [
       "(344404, 6)"
      ]
     },
     "execution_count": 25,
     "metadata": {},
     "output_type": "execute_result"
    }
   ],
   "source": [
    "df_reviews.shape"
   ]
  },
  {
   "cell_type": "code",
   "execution_count": 26,
   "metadata": {},
   "outputs": [
    {
     "data": {
      "text/plain": [
       "Index(['listing_id', 'id', 'date', 'reviewer_id', 'reviewer_name', 'comments'], dtype='object')"
      ]
     },
     "execution_count": 26,
     "metadata": {},
     "output_type": "execute_result"
    }
   ],
   "source": [
    "df_reviews.columns"
   ]
  },
  {
   "cell_type": "code",
   "execution_count": 27,
   "metadata": {},
   "outputs": [
    {
     "data": {
      "text/plain": [
       "listing_id         0\n",
       "id                 0\n",
       "date               0\n",
       "reviewer_id        0\n",
       "reviewer_name      1\n",
       "comments         417\n",
       "dtype: int64"
      ]
     },
     "execution_count": 27,
     "metadata": {},
     "output_type": "execute_result"
    }
   ],
   "source": [
    "df_reviews.isnull().sum()"
   ]
  },
  {
   "cell_type": "markdown",
   "metadata": {},
   "source": [
    "#### Removing duplicate rows "
   ]
  },
  {
   "cell_type": "code",
   "execution_count": 31,
   "metadata": {},
   "outputs": [],
   "source": [
    "df_reviews.dropna(inplace=True)"
   ]
  },
  {
   "cell_type": "code",
   "execution_count": 32,
   "metadata": {},
   "outputs": [],
   "source": [
    "df_reviews.to_csv(r'C:\\\\Users\\Antony\\\\Documents\\\\My Tableau Repository\\\\Datasources\\\\Tableau\\\\MadStreetDen assignment\\\\MSD- copy\\\\reviews_final.csv')"
   ]
  },
  {
   "cell_type": "code",
   "execution_count": 33,
   "metadata": {},
   "outputs": [
    {
     "data": {
      "text/plain": [
       "(344404, 2)"
      ]
     },
     "execution_count": 33,
     "metadata": {},
     "output_type": "execute_result"
    }
   ],
   "source": [
    "df_reviews_summary.shape"
   ]
  },
  {
   "cell_type": "code",
   "execution_count": 34,
   "metadata": {},
   "outputs": [
    {
     "data": {
      "text/html": [
       "<div>\n",
       "<style scoped>\n",
       "    .dataframe tbody tr th:only-of-type {\n",
       "        vertical-align: middle;\n",
       "    }\n",
       "\n",
       "    .dataframe tbody tr th {\n",
       "        vertical-align: top;\n",
       "    }\n",
       "\n",
       "    .dataframe thead th {\n",
       "        text-align: right;\n",
       "    }\n",
       "</style>\n",
       "<table border=\"1\" class=\"dataframe\">\n",
       "  <thead>\n",
       "    <tr style=\"text-align: right;\">\n",
       "      <th></th>\n",
       "      <th>listing_id</th>\n",
       "    </tr>\n",
       "  </thead>\n",
       "  <tbody>\n",
       "    <tr>\n",
       "      <th>count</th>\n",
       "      <td>3.444040e+05</td>\n",
       "    </tr>\n",
       "    <tr>\n",
       "      <th>mean</th>\n",
       "      <td>1.199821e+07</td>\n",
       "    </tr>\n",
       "    <tr>\n",
       "      <th>std</th>\n",
       "      <td>7.757898e+06</td>\n",
       "    </tr>\n",
       "    <tr>\n",
       "      <th>min</th>\n",
       "      <td>6.000000e+00</td>\n",
       "    </tr>\n",
       "    <tr>\n",
       "      <th>25%</th>\n",
       "      <td>5.134312e+06</td>\n",
       "    </tr>\n",
       "    <tr>\n",
       "      <th>50%</th>\n",
       "      <td>1.234723e+07</td>\n",
       "    </tr>\n",
       "    <tr>\n",
       "      <th>75%</th>\n",
       "      <td>1.843056e+07</td>\n",
       "    </tr>\n",
       "    <tr>\n",
       "      <th>max</th>\n",
       "      <td>2.998096e+07</td>\n",
       "    </tr>\n",
       "  </tbody>\n",
       "</table>\n",
       "</div>"
      ],
      "text/plain": [
       "         listing_id\n",
       "count  3.444040e+05\n",
       "mean   1.199821e+07\n",
       "std    7.757898e+06\n",
       "min    6.000000e+00\n",
       "25%    5.134312e+06\n",
       "50%    1.234723e+07\n",
       "75%    1.843056e+07\n",
       "max    2.998096e+07"
      ]
     },
     "execution_count": 34,
     "metadata": {},
     "output_type": "execute_result"
    }
   ],
   "source": [
    "df_reviews_summary.describe()"
   ]
  },
  {
   "cell_type": "code",
   "execution_count": 35,
   "metadata": {},
   "outputs": [
    {
     "data": {
      "text/plain": [
       "listing_id    0\n",
       "date          0\n",
       "dtype: int64"
      ]
     },
     "execution_count": 35,
     "metadata": {},
     "output_type": "execute_result"
    }
   ],
   "source": [
    "df_reviews_summary.isnull().sum()"
   ]
  },
  {
   "cell_type": "code",
   "execution_count": 56,
   "metadata": {},
   "outputs": [
    {
     "data": {
      "text/html": [
       "<div>\n",
       "<style scoped>\n",
       "    .dataframe tbody tr th:only-of-type {\n",
       "        vertical-align: middle;\n",
       "    }\n",
       "\n",
       "    .dataframe tbody tr th {\n",
       "        vertical-align: top;\n",
       "    }\n",
       "\n",
       "    .dataframe thead th {\n",
       "        text-align: right;\n",
       "    }\n",
       "</style>\n",
       "<table border=\"1\" class=\"dataframe\">\n",
       "  <thead>\n",
       "    <tr style=\"text-align: right;\">\n",
       "      <th></th>\n",
       "      <th>listing_id</th>\n",
       "    </tr>\n",
       "  </thead>\n",
       "  <tbody>\n",
       "    <tr>\n",
       "      <th>count</th>\n",
       "      <td>3.444040e+05</td>\n",
       "    </tr>\n",
       "    <tr>\n",
       "      <th>mean</th>\n",
       "      <td>1.199821e+07</td>\n",
       "    </tr>\n",
       "    <tr>\n",
       "      <th>std</th>\n",
       "      <td>7.757898e+06</td>\n",
       "    </tr>\n",
       "    <tr>\n",
       "      <th>min</th>\n",
       "      <td>6.000000e+00</td>\n",
       "    </tr>\n",
       "    <tr>\n",
       "      <th>25%</th>\n",
       "      <td>5.134312e+06</td>\n",
       "    </tr>\n",
       "    <tr>\n",
       "      <th>50%</th>\n",
       "      <td>1.234723e+07</td>\n",
       "    </tr>\n",
       "    <tr>\n",
       "      <th>75%</th>\n",
       "      <td>1.843056e+07</td>\n",
       "    </tr>\n",
       "    <tr>\n",
       "      <th>max</th>\n",
       "      <td>2.998096e+07</td>\n",
       "    </tr>\n",
       "  </tbody>\n",
       "</table>\n",
       "</div>"
      ],
      "text/plain": [
       "         listing_id\n",
       "count  3.444040e+05\n",
       "mean   1.199821e+07\n",
       "std    7.757898e+06\n",
       "min    6.000000e+00\n",
       "25%    5.134312e+06\n",
       "50%    1.234723e+07\n",
       "75%    1.843056e+07\n",
       "max    2.998096e+07"
      ]
     },
     "execution_count": 56,
     "metadata": {},
     "output_type": "execute_result"
    }
   ],
   "source": [
    "df_reviews_summary.describe()"
   ]
  },
  {
   "cell_type": "markdown",
   "metadata": {},
   "source": [
    "### 2.3 calendar data "
   ]
  },
  {
   "cell_type": "code",
   "execution_count": 36,
   "metadata": {},
   "outputs": [
    {
     "data": {
      "text/plain": [
       "(4351530, 4)"
      ]
     },
     "execution_count": 36,
     "metadata": {},
     "output_type": "execute_result"
    }
   ],
   "source": [
    "df_calendar.shape\n"
   ]
  },
  {
   "cell_type": "code",
   "execution_count": 37,
   "metadata": {},
   "outputs": [
    {
     "data": {
      "text/plain": [
       "listing_id          0\n",
       "date                0\n",
       "available           0\n",
       "price         2533587\n",
       "dtype: int64"
      ]
     },
     "execution_count": 37,
     "metadata": {},
     "output_type": "execute_result"
    }
   ],
   "source": [
    "df_calendar.isnull().sum()"
   ]
  },
  {
   "cell_type": "code",
   "execution_count": 38,
   "metadata": {},
   "outputs": [
    {
     "data": {
      "text/plain": [
       "Index(['listing_id', 'date', 'available', 'price'], dtype='object')"
      ]
     },
     "execution_count": 38,
     "metadata": {},
     "output_type": "execute_result"
    }
   ],
   "source": [
    "df_calendar.columns"
   ]
  },
  {
   "cell_type": "code",
   "execution_count": 39,
   "metadata": {},
   "outputs": [],
   "source": [
    "df_calendar['price'] = df_calendar['price'].replace('[\\$,]','',regex=True).astype(float)"
   ]
  },
  {
   "cell_type": "markdown",
   "metadata": {},
   "source": [
    "Replacing null values in price with mode ( Given over 50% missing values, other options would be to use median or reconsider using this file data)"
   ]
  },
  {
   "cell_type": "code",
   "execution_count": 40,
   "metadata": {},
   "outputs": [
    {
     "data": {
      "text/plain": [
       "0    99.0\n",
       "dtype: float64"
      ]
     },
     "execution_count": 40,
     "metadata": {},
     "output_type": "execute_result"
    }
   ],
   "source": [
    "df_calendar.price.mode()\n"
   ]
  },
  {
   "cell_type": "markdown",
   "metadata": {},
   "source": [
    "##### Replacing missing price values with mode"
   ]
  },
  {
   "cell_type": "code",
   "execution_count": 41,
   "metadata": {},
   "outputs": [],
   "source": [
    "df_calendar[\"price\"].fillna(df_calendar[\"price\"].mode()[0], inplace=True)"
   ]
  },
  {
   "cell_type": "code",
   "execution_count": 42,
   "metadata": {},
   "outputs": [
    {
     "data": {
      "text/plain": [
       "listing_id    0\n",
       "date          0\n",
       "available     0\n",
       "price         0\n",
       "dtype: int64"
      ]
     },
     "execution_count": 42,
     "metadata": {},
     "output_type": "execute_result"
    }
   ],
   "source": [
    "df_calendar.isnull().sum()"
   ]
  },
  {
   "cell_type": "code",
   "execution_count": 43,
   "metadata": {},
   "outputs": [],
   "source": [
    "df_calendar.to_csv(r'C:\\\\Users\\Antony\\\\Documents\\\\My Tableau Repository\\\\Datasources\\\\Tableau\\\\MadStreetDen assignment\\\\MSD- copy\\\\calendar_final.csv',index=False)"
   ]
  },
  {
   "cell_type": "markdown",
   "metadata": {},
   "source": [
    "### 2.3 neighbourhoods data "
   ]
  },
  {
   "cell_type": "code",
   "execution_count": 46,
   "metadata": {},
   "outputs": [
    {
     "data": {
      "text/plain": [
       "(108, 2)"
      ]
     },
     "execution_count": 46,
     "metadata": {},
     "output_type": "execute_result"
    }
   ],
   "source": [
    "df_neighbourhoods.shape"
   ]
  },
  {
   "cell_type": "code",
   "execution_count": 45,
   "metadata": {},
   "outputs": [
    {
     "data": {
      "text/plain": [
       "neighbourhood_group    108\n",
       "neighbourhood            0\n",
       "dtype: int64"
      ]
     },
     "execution_count": 45,
     "metadata": {},
     "output_type": "execute_result"
    }
   ],
   "source": [
    "df_neighbourhoods.isnull().sum()"
   ]
  },
  {
   "cell_type": "code",
   "execution_count": 64,
   "metadata": {},
   "outputs": [
    {
     "data": {
      "text/html": [
       "<div>\n",
       "<style scoped>\n",
       "    .dataframe tbody tr th:only-of-type {\n",
       "        vertical-align: middle;\n",
       "    }\n",
       "\n",
       "    .dataframe tbody tr th {\n",
       "        vertical-align: top;\n",
       "    }\n",
       "\n",
       "    .dataframe thead th {\n",
       "        text-align: right;\n",
       "    }\n",
       "</style>\n",
       "<table border=\"1\" class=\"dataframe\">\n",
       "  <thead>\n",
       "    <tr style=\"text-align: right;\">\n",
       "      <th></th>\n",
       "      <th>neighbourhood_group</th>\n",
       "      <th>neighbourhood</th>\n",
       "    </tr>\n",
       "  </thead>\n",
       "  <tbody>\n",
       "    <tr>\n",
       "      <th>0</th>\n",
       "      <td>NaN</td>\n",
       "      <td>Allied Gardens</td>\n",
       "    </tr>\n",
       "    <tr>\n",
       "      <th>1</th>\n",
       "      <td>NaN</td>\n",
       "      <td>Alta Vista</td>\n",
       "    </tr>\n",
       "    <tr>\n",
       "      <th>2</th>\n",
       "      <td>NaN</td>\n",
       "      <td>Amphitheater And Water Park</td>\n",
       "    </tr>\n",
       "    <tr>\n",
       "      <th>3</th>\n",
       "      <td>NaN</td>\n",
       "      <td>Balboa Park</td>\n",
       "    </tr>\n",
       "    <tr>\n",
       "      <th>4</th>\n",
       "      <td>NaN</td>\n",
       "      <td>Bario Logan</td>\n",
       "    </tr>\n",
       "    <tr>\n",
       "      <th>...</th>\n",
       "      <td>...</td>\n",
       "      <td>...</td>\n",
       "    </tr>\n",
       "    <tr>\n",
       "      <th>103</th>\n",
       "      <td>NaN</td>\n",
       "      <td>Village Center</td>\n",
       "    </tr>\n",
       "    <tr>\n",
       "      <th>104</th>\n",
       "      <td>NaN</td>\n",
       "      <td>Webster</td>\n",
       "    </tr>\n",
       "    <tr>\n",
       "      <th>105</th>\n",
       "      <td>NaN</td>\n",
       "      <td>West University Heights</td>\n",
       "    </tr>\n",
       "    <tr>\n",
       "      <th>106</th>\n",
       "      <td>NaN</td>\n",
       "      <td>Wooded Area</td>\n",
       "    </tr>\n",
       "    <tr>\n",
       "      <th>107</th>\n",
       "      <td>NaN</td>\n",
       "      <td>Yosemite Dr</td>\n",
       "    </tr>\n",
       "  </tbody>\n",
       "</table>\n",
       "<p>108 rows × 2 columns</p>\n",
       "</div>"
      ],
      "text/plain": [
       "     neighbourhood_group                neighbourhood\n",
       "0                    NaN               Allied Gardens\n",
       "1                    NaN                   Alta Vista\n",
       "2                    NaN  Amphitheater And Water Park\n",
       "3                    NaN                  Balboa Park\n",
       "4                    NaN                  Bario Logan\n",
       "..                   ...                          ...\n",
       "103                  NaN               Village Center\n",
       "104                  NaN                      Webster\n",
       "105                  NaN      West University Heights\n",
       "106                  NaN                  Wooded Area\n",
       "107                  NaN                  Yosemite Dr\n",
       "\n",
       "[108 rows x 2 columns]"
      ]
     },
     "execution_count": 64,
     "metadata": {},
     "output_type": "execute_result"
    }
   ],
   "source": [
    "df_neighbourhoods"
   ]
  },
  {
   "cell_type": "markdown",
   "metadata": {},
   "source": [
    "##### All values neighbourhood_group column of neighbourhoods data is null. Will be using neighbourhood in listings data for the same intead "
   ]
  },
  {
   "cell_type": "markdown",
   "metadata": {},
   "source": [
    "# Insights\n"
   ]
  },
  {
   "cell_type": "code",
   "execution_count": 49,
   "metadata": {},
   "outputs": [],
   "source": [
    "import matplotlib.pyplot as plt     # Plotting library for Python programming language and it's numerical mathematics extension NumPy\n",
    "import seaborn as sns               # Provides a high level interface for drawing attractive and informative statistical graphics\n",
    "%matplotlib inline\n",
    "sns.set()"
   ]
  },
  {
   "cell_type": "code",
   "execution_count": 51,
   "metadata": {},
   "outputs": [
    {
     "data": {
      "text/plain": [
       "<AxesSubplot:>"
      ]
     },
     "execution_count": 51,
     "metadata": {},
     "output_type": "execute_result"
    },
    {
     "data": {
      "image/png": "[encoded data removed]",
      "text/plain": [
       "<Figure size 432x288 with 2 Axes>"
      ]
     },
     "metadata": {},
     "output_type": "display_data"
    }
   ],
   "source": [
    "#Finding pearson correlation between columns \n",
    "\n",
    "sns.heatmap(listings.corr())\n"
   ]
  },
  {
   "cell_type": "markdown",
   "metadata": {},
   "source": [
    "#### Correlation between price and the various fields "
   ]
  },
  {
   "cell_type": "code",
   "execution_count": 53,
   "metadata": {},
   "outputs": [
    {
     "data": {
      "text/plain": [
       "host_id                           0.005688\n",
       "host_listings_count               0.070512\n",
       "zipcode                          -0.288329\n",
       "latitude                          0.050744\n",
       "longitude                        -0.205717\n",
       "accommodates                      0.597176\n",
       "bathrooms                         0.605063\n",
       "bedrooms                          0.602628\n",
       "beds                              0.508724\n",
       "price                             1.000000\n",
       "guests_included                   0.379454\n",
       "minimum_nights                   -0.017967\n",
       "maximum_nights                    0.001885\n",
       "availability_30                   0.108607\n",
       "availability_60                   0.079372\n",
       "availability_90                   0.073036\n",
       "availability_365                  0.141081\n",
       "number_of_reviews                -0.133802\n",
       "review_scores_rating             -0.007245\n",
       "review_scores_accuracy           -0.041817\n",
       "review_scores_cleanliness        -0.007345\n",
       "review_scores_checkin            -0.044920\n",
       "review_scores_communication      -0.071227\n",
       "review_scores_location            0.014473\n",
       "review_scores_value              -0.107780\n",
       "calculated_host_listings_count    0.203262\n",
       "reviews_per_month                -0.190460\n",
       "Name: price, dtype: float64"
      ]
     },
     "execution_count": 53,
     "metadata": {},
     "output_type": "execute_result"
    }
   ],
   "source": [
    "listings[listings.columns[1:]].corr()['price'][:]"
   ]
  },
  {
   "cell_type": "markdown",
   "metadata": {},
   "source": [
    "### Creating a wordcloud "
   ]
  },
  {
   "cell_type": "code",
   "execution_count": 58,
   "metadata": {},
   "outputs": [
    {
     "data": {
      "text/plain": [
       "(343986,)"
      ]
     },
     "execution_count": 58,
     "metadata": {},
     "output_type": "execute_result"
    }
   ],
   "source": [
    "reviews=df_reviews[\"comments\"]\n",
    "reviews.shape"
   ]
  },
  {
   "cell_type": "code",
   "execution_count": null,
   "metadata": {},
   "outputs": [],
   "source": [
    "\n",
    "from wordcloud import WordCloud, STOPWORDS"
   ]
  },
  {
   "cell_type": "code",
   "execution_count": null,
   "metadata": {},
   "outputs": [],
   "source": [
    "comment_words = ' '\n",
    "stopwords = set(STOPWORDS) \n",
    "  \n",
    "for val in review: \n",
    "      \n",
    "    val = str(val) \n",
    "  \n",
    "    tokens = val.split() \n",
    "      \n",
    "\n",
    "    for i in range(len(tokens)): \n",
    "        tokens[i] = tokens[i].lower() \n",
    "          \n",
    "    for words in tokens: \n",
    "        comment_words = comment_words + words + ' '\n",
    "  \n",
    "  \n",
    "wordcloud = WordCloud(width = 800, height = 800, \n",
    "                background_color ='white', \n",
    "                stopwords = stopwords, \n",
    "                min_font_size = 10).generate(comment_words)\n"
   ]
  },
  {
   "cell_type": "code",
   "execution_count": null,
   "metadata": {},
   "outputs": [],
   "source": [
    "# plot the WordCloud image                        \n",
    "plt.figure(figsize = (7, 4), facecolor = None) \n",
    "plt.imshow(wordcloud) \n",
    "plt.axis(\"off\") \n",
    "plt.tight_layout(pad = 0) \n",
    "  \n",
    "plt.show()"
   ]
  }
 ],
 "metadata": {
  "kernelspec": {
   "display_name": "Python 3",
   "language": "python",
   "name": "python3"
  },
  "language_info": {
   "codemirror_mode": {
    "name": "ipython",
    "version": 3
   },
   "file_extension": ".py",
   "mimetype": "text/x-python",
   "name": "python",
   "nbconvert_exporter": "python",
   "pygments_lexer": "ipython3",
   "version": "3.8.5"
  }
 },
 "nbformat": 4,
 "nbformat_minor": 4
}
